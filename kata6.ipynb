{
 "cells": [
  {
   "cell_type": "code",
   "execution_count": 4,
   "metadata": {},
   "outputs": [
    {
     "name": "stdout",
     "output_type": "stream",
     "text": [
      "Son 8 planetas\n"
     ]
    }
   ],
   "source": [
    "planets = [\"Mercurio\", \"Venus\", \"Tierra\", \"Marte\", \"Jupiter\", \"Saturno\", \"Urano\", \"Neptuno\"]\n",
    "print ( \"Son\", len (planets), \"planetas\")"
   ]
  },
  {
   "cell_type": "code",
   "execution_count": 5,
   "metadata": {},
   "outputs": [
    {
     "name": "stdout",
     "output_type": "stream",
     "text": [
      "Pluton\n"
     ]
    }
   ],
   "source": [
    "planets.append(\"Pluton\")\n",
    "print (planets [-1])"
   ]
  },
  {
   "cell_type": "code",
   "execution_count": 8,
   "metadata": {},
   "outputs": [
    {
     "name": "stdout",
     "output_type": "stream",
     "text": [
      "Marte es el planeta numero 4 en el sistema solar\n"
     ]
    }
   ],
   "source": [
    "planeta = input (\"Ingresa el nombre de un planeta, por favor escribe su inicial en mayusculas\")\n",
    "indice = planets.index(planeta)\n",
    "print (planeta, \"es el planeta numero\", indice + 1, \"en el sistema solar\")"
   ]
  },
  {
   "cell_type": "code",
   "execution_count": 11,
   "metadata": {},
   "outputs": [
    {
     "name": "stdout",
     "output_type": "stream",
     "text": [
      "El planeta mas cercano al sol es Tierra\n",
      "El planeta mas lejano al sol es Jupiter\n"
     ]
    }
   ],
   "source": [
    "print (\"El planeta mas cercano al sol es\", planets[indice -1])\n",
    "print (\"El planeta mas lejano al sol es\", planets[indice +1])"
   ]
  }
 ],
 "metadata": {
  "interpreter": {
   "hash": "c5b2a3d71bfe9b2e01afcbeab417bcc07933e28dac38dc1fdd50a8df0e1ea0e4"
  },
  "kernelspec": {
   "display_name": "Python 3.10.2 64-bit",
   "language": "python",
   "name": "python3"
  },
  "language_info": {
   "codemirror_mode": {
    "name": "ipython",
    "version": 3
   },
   "file_extension": ".py",
   "mimetype": "text/x-python",
   "name": "python",
   "nbconvert_exporter": "python",
   "pygments_lexer": "ipython3",
   "version": "3.10.2"
  },
  "orig_nbformat": 4
 },
 "nbformat": 4,
 "nbformat_minor": 2
}
