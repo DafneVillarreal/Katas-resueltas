{
 "cells": [
  {
   "cell_type": "code",
   "execution_count": 34,
   "metadata": {},
   "outputs": [],
   "source": [
    "combustible = 0\n",
    "\n",
    "def reporte (tanque1, tanque2, tanque3):\n",
    "    combustible = tanque1 + tanque2 + tanque3\n",
    "    print (\"tanque 1:\", tanque1, \"\\ntanque 2:\", tanque2, \n",
    "    \"\\ntanque 3:\", tanque3, \"\\ncombustible total:\", combustible)\n",
    "    return combustible"
   ]
  },
  {
   "cell_type": "code",
   "execution_count": 50,
   "metadata": {},
   "outputs": [
    {
     "name": "stdout",
     "output_type": "stream",
     "text": [
      "tanque 1: 52 \n",
      "tanque 2: 47 \n",
      "tanque 3: 22 \n",
      "combustible total: 121\n",
      "0\n"
     ]
    }
   ],
   "source": [
    ">>> reporte (52, 47, 22)\n",
    "\n",
    "print (combustible)"
   ]
  },
  {
   "cell_type": "code",
   "execution_count": 54,
   "metadata": {},
   "outputs": [],
   "source": [
    "def promedio (tanque1, tanque2, tanque3):\n",
    "    combustible = tanque1 + tanque2 + tanque3\n",
    "    return combustible / 3"
   ]
  },
  {
   "cell_type": "code",
   "execution_count": 55,
   "metadata": {},
   "outputs": [
    {
     "data": {
      "text/plain": [
       "48.0"
      ]
     },
     "execution_count": 55,
     "metadata": {},
     "output_type": "execute_result"
    }
   ],
   "source": [
    ">>> promedio (74, 56, 14)"
   ]
  },
  {
   "cell_type": "code",
   "execution_count": 56,
   "metadata": {},
   "outputs": [
    {
     "name": "stdout",
     "output_type": "stream",
     "text": [
      "\n",
      "    Mision hacia Jupiter\n",
      "    Duracion del viaje: 56 hrs\n",
      "    Combustible: 1210 litros\n",
      "    \n"
     ]
    }
   ],
   "source": [
    "def informe (hora_lanzamiento, tiempo_vuelo, destino, tanque1, tanque2, tanque3):\n",
    "    return f\"\"\"\n",
    "    Mision hacia: {destino}\n",
    "    Duracion del viaje: {tiempo_vuelo} hrs\n",
    "    Combustible: {tanque1 + tanque2 + tanque3} litros\"\"\"\n"
   ]
  },
  {
   "cell_type": "code",
   "execution_count": 57,
   "metadata": {},
   "outputs": [
    {
     "data": {
      "text/plain": [
       "'\\n    Mision hacia Jupiter\\n    Duracion del viaje: 56 hrs\\n    Combustible: 1210 litros\\n    '"
      ]
     },
     "execution_count": 57,
     "metadata": {},
     "output_type": "execute_result"
    }
   ],
   "source": [
    ">>> informe (23, 56, \"Jupiter\", 456, 754, 569)"
   ]
  },
  {
   "cell_type": "code",
   "execution_count": 59,
   "metadata": {},
   "outputs": [],
   "source": [
    "def informe (hora_lanzamiento, tiempo_vuelo, destino, tanque1, tanque2, tanque3):\n",
    "    return f\"\"\"\n",
    "    Mision hacia: {destino}\n",
    "    Duracion del viaje: {tiempo_vuelo} hrs\n",
    "    Combustible: {tanque1 + tanque2 + tanque3} litros\n",
    "    Tanque 1: {tanque1} litros\n",
    "    Tanque 2: {tanque2} litros\n",
    "    Tanque 3: {tanque3} litros\n",
    "    \"\"\""
   ]
  },
  {
   "cell_type": "code",
   "execution_count": 60,
   "metadata": {},
   "outputs": [
    {
     "data": {
      "text/plain": [
       "'\\n    Mision hacia: Jupiter\\n    Duracion del viaje: 56 hrs\\n    Combustible: 1779 litros\\n    Tanque 1: 456 litros\\n    Tanque 2: 754 litros\\n    Tanque 3: 569 litros\\n    '"
      ]
     },
     "execution_count": 60,
     "metadata": {},
     "output_type": "execute_result"
    }
   ],
   "source": [
    ">>> informe (23, 56, \"Jupiter\", 456, 754, 569)"
   ]
  }
 ],
 "metadata": {
  "interpreter": {
   "hash": "c5b2a3d71bfe9b2e01afcbeab417bcc07933e28dac38dc1fdd50a8df0e1ea0e4"
  },
  "kernelspec": {
   "display_name": "Python 3.10.2 64-bit",
   "language": "python",
   "name": "python3"
  },
  "language_info": {
   "codemirror_mode": {
    "name": "ipython",
    "version": 3
   },
   "file_extension": ".py",
   "mimetype": "text/x-python",
   "name": "python",
   "nbconvert_exporter": "python",
   "pygments_lexer": "ipython3",
   "version": "3.10.2"
  },
  "orig_nbformat": 4
 },
 "nbformat": 4,
 "nbformat_minor": 2
}
