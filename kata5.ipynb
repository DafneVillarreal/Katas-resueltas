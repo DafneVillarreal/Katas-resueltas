{
 "cells": [
  {
   "cell_type": "code",
   "execution_count": 11,
   "metadata": {},
   "outputs": [
    {
     "name": "stdout",
     "output_type": "stream",
     "text": [
      "628949330\n",
      "390577534\n"
     ]
    }
   ],
   "source": [
    "tierra = 149597870 \n",
    "jupiter = 778547200\n",
    "distancia = jupiter - tierra\n",
    "print (distancia)\n",
    "millas = distancia * 0.621\n",
    "print (round(millas))"
   ]
  },
  {
   "cell_type": "code",
   "execution_count": 19,
   "metadata": {},
   "outputs": [
    {
     "name": "stdout",
     "output_type": "stream",
     "text": [
      "56819000\n",
      "35284599.0\n"
     ]
    }
   ],
   "source": [
    "planeta1 = int ( input (\"Ingresa la distancia del planeta 1\"))\n",
    "planeta2 = int ( input (\"Ingresa la distancia del planeta 2\"))\n",
    "distancia = planeta1 - planeta2\n",
    "print (abs (distancia))\n",
    "\n",
    "millas = distancia * 0.621\n",
    "print (abs (millas))"
   ]
  }
 ],
 "metadata": {
  "interpreter": {
   "hash": "c5b2a3d71bfe9b2e01afcbeab417bcc07933e28dac38dc1fdd50a8df0e1ea0e4"
  },
  "kernelspec": {
   "display_name": "Python 3.10.2 64-bit",
   "language": "python",
   "name": "python3"
  },
  "language_info": {
   "codemirror_mode": {
    "name": "ipython",
    "version": 3
   },
   "file_extension": ".py",
   "mimetype": "text/x-python",
   "name": "python",
   "nbconvert_exporter": "python",
   "pygments_lexer": "ipython3",
   "version": "3.10.2"
  },
  "orig_nbformat": 4
 },
 "nbformat": 4,
 "nbformat_minor": 2
}
