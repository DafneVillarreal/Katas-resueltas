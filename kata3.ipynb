{
 "cells": [
  {
   "cell_type": "code",
   "execution_count": 1,
   "metadata": {},
   "outputs": [
    {
     "name": "stdout",
     "output_type": "stream",
     "text": [
      "ADVERTENCIA. Un asteroide se acerca demasiado rapido a la tierra\n"
     ]
    }
   ],
   "source": [
    "velocidad=49\n",
    "if velocidad > 25:\n",
    "    print ('ADVERTENCIA. Un asteroide se acerca demasiado rapido a la tierra')\n",
    "else: \n",
    "    print ('Todo bajo control')"
   ]
  },
  {
   "cell_type": "code",
   "execution_count": 2,
   "metadata": {},
   "outputs": [
    {
     "name": "stdout",
     "output_type": "stream",
     "text": [
      "Todo bien\n"
     ]
    }
   ],
   "source": [
    "velocidad = 19\n",
    "if velocidad > 20:\n",
    "    print ('Observen el rayo de luz en el cielo emitido por el asteroide')\n",
    "\n",
    "elif velocidad == 20:\n",
    "    print ('Observen el rayo de luz en el cielo emitido por el asteroide')\n",
    "\n",
    "else: \n",
    "    print ('Todo bien')"
   ]
  },
  {
   "cell_type": "code",
   "execution_count": 4,
   "metadata": {},
   "outputs": [
    {
     "name": "stdout",
     "output_type": "stream",
     "text": [
      "CUIDADO, mira el cielo, se acerca un asteroide peligroso con rayos de luz\n"
     ]
    }
   ],
   "source": [
    "magnitud = 30\n",
    "velocidad = 55\n",
    "\n",
    "if magnitud >= 25 and velocidad >= 20:\n",
    "    print ('CUIDADO, mira el cielo, se acerca un asteroide peligroso con rayos de luz')\n",
    "elif magnitud >=25:\n",
    "    print ('ADVERTENCIA. se acerca un asteroide peligroso')\n",
    "elif velocidad >=20:\n",
    "    print ('Observe el cielo, hay luces bonitas')\n",
    "else:\n",
    "    print ('Todo se encuentra en orden')"
   ]
  }
 ],
 "metadata": {
  "interpreter": {
   "hash": "c5b2a3d71bfe9b2e01afcbeab417bcc07933e28dac38dc1fdd50a8df0e1ea0e4"
  },
  "kernelspec": {
   "display_name": "Python 3.10.2 64-bit",
   "language": "python",
   "name": "python3"
  },
  "language_info": {
   "codemirror_mode": {
    "name": "ipython",
    "version": 3
   },
   "file_extension": ".py",
   "mimetype": "text/x-python",
   "name": "python",
   "nbconvert_exporter": "python",
   "pygments_lexer": "ipython3",
   "version": "3.10.2"
  },
  "orig_nbformat": 4
 },
 "nbformat": 4,
 "nbformat_minor": 2
}
